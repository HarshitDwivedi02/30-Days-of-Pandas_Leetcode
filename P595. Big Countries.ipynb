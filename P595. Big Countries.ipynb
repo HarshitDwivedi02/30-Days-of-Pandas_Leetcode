{
 "cells": [
  {
   "cell_type": "code",
   "execution_count": null,
   "metadata": {},
   "outputs": [],
   "source": [
    "import pandas as pd\n",
    "\n",
    "def big_countries(world: pd.DataFrame) -> pd.DataFrame:\n",
    "    big_countries_df = world[(world['area'] >= 3000000) | (world['population'] >= 25000000)]\n",
    "    return big_countries_df[['name','population','area']]\n",
    "\n",
    "\n",
    "    \n",
    "    "
   ]
  }
 ],
 "metadata": {
  "language_info": {
   "name": "python"
  },
  "orig_nbformat": 4
 },
 "nbformat": 4,
 "nbformat_minor": 2
}
